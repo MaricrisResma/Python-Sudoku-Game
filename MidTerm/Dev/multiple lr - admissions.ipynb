{
 "cells": [
  {
   "cell_type": "code",
   "execution_count": 21,
   "metadata": {},
   "outputs": [],
   "source": [
    "# Import module/s\n",
    "import pandas as pd\n",
    "import numpy as np\n",
    "from sklearn.linear_model import LinearRegression\n",
    "from sklearn.model_selection import train_test_split\n",
    "from sklearn.metrics import mean_squared_error\n",
    "from sklearn.metrics import mean_absolute_error\n",
    "from sklearn.metrics import mean_absolute_percentage_error\n",
    "import matplotlib.pyplot as plt\n",
    "from matplotlib.backends.backend_pdf import PdfPages\n",
    "from math import sqrt\n",
    "import statsmodels.api as sm"
   ]
  },
  {
   "cell_type": "code",
   "execution_count": 22,
   "metadata": {},
   "outputs": [],
   "source": [
    "# Import data\n",
    "model_data = pd.read_csv('Admission_Predict.csv',header=0)\n",
    "\n",
    "# Reformat column names. Change space to underscore. \n",
    "model_data.columns = model_data.columns.str.replace(' ', '_')"
   ]
  },
  {
   "cell_type": "code",
   "execution_count": 23,
   "metadata": {},
   "outputs": [
    {
     "data": {
      "text/html": [
       "<div>\n",
       "<style scoped>\n",
       "    .dataframe tbody tr th:only-of-type {\n",
       "        vertical-align: middle;\n",
       "    }\n",
       "\n",
       "    .dataframe tbody tr th {\n",
       "        vertical-align: top;\n",
       "    }\n",
       "\n",
       "    .dataframe thead th {\n",
       "        text-align: right;\n",
       "    }\n",
       "</style>\n",
       "<table border=\"1\" class=\"dataframe\">\n",
       "  <thead>\n",
       "    <tr style=\"text-align: right;\">\n",
       "      <th></th>\n",
       "      <th>const</th>\n",
       "      <th>GRE_Score</th>\n",
       "      <th>TOEFL_Score</th>\n",
       "      <th>LOR_</th>\n",
       "      <th>CGPA</th>\n",
       "    </tr>\n",
       "  </thead>\n",
       "  <tbody>\n",
       "    <tr>\n",
       "      <th>0</th>\n",
       "      <td>1.0</td>\n",
       "      <td>337</td>\n",
       "      <td>118</td>\n",
       "      <td>4.5</td>\n",
       "      <td>9.65</td>\n",
       "    </tr>\n",
       "    <tr>\n",
       "      <th>1</th>\n",
       "      <td>1.0</td>\n",
       "      <td>324</td>\n",
       "      <td>107</td>\n",
       "      <td>4.5</td>\n",
       "      <td>8.87</td>\n",
       "    </tr>\n",
       "    <tr>\n",
       "      <th>2</th>\n",
       "      <td>1.0</td>\n",
       "      <td>316</td>\n",
       "      <td>104</td>\n",
       "      <td>3.5</td>\n",
       "      <td>8.00</td>\n",
       "    </tr>\n",
       "    <tr>\n",
       "      <th>3</th>\n",
       "      <td>1.0</td>\n",
       "      <td>322</td>\n",
       "      <td>110</td>\n",
       "      <td>2.5</td>\n",
       "      <td>8.67</td>\n",
       "    </tr>\n",
       "    <tr>\n",
       "      <th>4</th>\n",
       "      <td>1.0</td>\n",
       "      <td>314</td>\n",
       "      <td>103</td>\n",
       "      <td>3.0</td>\n",
       "      <td>8.21</td>\n",
       "    </tr>\n",
       "    <tr>\n",
       "      <th>...</th>\n",
       "      <td>...</td>\n",
       "      <td>...</td>\n",
       "      <td>...</td>\n",
       "      <td>...</td>\n",
       "      <td>...</td>\n",
       "    </tr>\n",
       "    <tr>\n",
       "      <th>395</th>\n",
       "      <td>1.0</td>\n",
       "      <td>324</td>\n",
       "      <td>110</td>\n",
       "      <td>3.5</td>\n",
       "      <td>9.04</td>\n",
       "    </tr>\n",
       "    <tr>\n",
       "      <th>396</th>\n",
       "      <td>1.0</td>\n",
       "      <td>325</td>\n",
       "      <td>107</td>\n",
       "      <td>3.5</td>\n",
       "      <td>9.11</td>\n",
       "    </tr>\n",
       "    <tr>\n",
       "      <th>397</th>\n",
       "      <td>1.0</td>\n",
       "      <td>330</td>\n",
       "      <td>116</td>\n",
       "      <td>4.5</td>\n",
       "      <td>9.45</td>\n",
       "    </tr>\n",
       "    <tr>\n",
       "      <th>398</th>\n",
       "      <td>1.0</td>\n",
       "      <td>312</td>\n",
       "      <td>103</td>\n",
       "      <td>4.0</td>\n",
       "      <td>8.78</td>\n",
       "    </tr>\n",
       "    <tr>\n",
       "      <th>399</th>\n",
       "      <td>1.0</td>\n",
       "      <td>333</td>\n",
       "      <td>117</td>\n",
       "      <td>4.0</td>\n",
       "      <td>9.66</td>\n",
       "    </tr>\n",
       "  </tbody>\n",
       "</table>\n",
       "<p>400 rows × 5 columns</p>\n",
       "</div>"
      ],
      "text/plain": [
       "     const  GRE_Score  TOEFL_Score  LOR_  CGPA\n",
       "0      1.0        337          118   4.5  9.65\n",
       "1      1.0        324          107   4.5  8.87\n",
       "2      1.0        316          104   3.5  8.00\n",
       "3      1.0        322          110   2.5  8.67\n",
       "4      1.0        314          103   3.0  8.21\n",
       "..     ...        ...          ...   ...   ...\n",
       "395    1.0        324          110   3.5  9.04\n",
       "396    1.0        325          107   3.5  9.11\n",
       "397    1.0        330          116   4.5  9.45\n",
       "398    1.0        312          103   4.0  8.78\n",
       "399    1.0        333          117   4.0  9.66\n",
       "\n",
       "[400 rows x 5 columns]"
      ]
     },
     "execution_count": 23,
     "metadata": {},
     "output_type": "execute_result"
    }
   ],
   "source": [
    "# Final Model: GRE Score, TOEFL Score, LOR, CGPA\n",
    "y_var = 'Chance_of_Admit_'\n",
    "x_vars = [\n",
    "'GRE_Score',\n",
    "'TOEFL_Score',\n",
    "# 'LN_GRE',\n",
    "# 'LN_TOEFL',\n",
    "# 'University_Rating',\n",
    "# 'SOP',\n",
    "'LOR_',\n",
    "'CGPA'\n",
    "# ,'Research'\n",
    "]\n",
    "\n",
    "# Get the values of y (dependent variable)\n",
    "y_values = model_data[y_var]\n",
    "\n",
    "# Get the values of x (independent variables)\n",
    "x_values = model_data[x_vars]\n",
    "\n",
    "# Add constant to independent/predictor variables\n",
    "x_values = sm.add_constant(x_values)\n",
    "\n",
    "x_values"
   ]
  },
  {
   "cell_type": "code",
   "execution_count": 24,
   "metadata": {},
   "outputs": [
    {
     "data": {
      "text/html": [
       "<table class=\"simpletable\">\n",
       "<caption>OLS Regression Results</caption>\n",
       "<tr>\n",
       "  <th>Dep. Variable:</th>    <td>Chance_of_Admit_</td> <th>  R-squared:         </th> <td>   0.807</td>\n",
       "</tr>\n",
       "<tr>\n",
       "  <th>Model:</th>                   <td>OLS</td>       <th>  Adj. R-squared:    </th> <td>   0.804</td>\n",
       "</tr>\n",
       "<tr>\n",
       "  <th>Method:</th>             <td>Least Squares</td>  <th>  F-statistic:       </th> <td>   286.9</td>\n",
       "</tr>\n",
       "<tr>\n",
       "  <th>Date:</th>             <td>Mon, 13 Feb 2023</td> <th>  Prob (F-statistic):</th> <td>8.18e-97</td>\n",
       "</tr>\n",
       "<tr>\n",
       "  <th>Time:</th>                 <td>15:07:07</td>     <th>  Log-Likelihood:    </th> <td>  380.72</td>\n",
       "</tr>\n",
       "<tr>\n",
       "  <th>No. Observations:</th>      <td>   280</td>      <th>  AIC:               </th> <td>  -751.4</td>\n",
       "</tr>\n",
       "<tr>\n",
       "  <th>Df Residuals:</th>          <td>   275</td>      <th>  BIC:               </th> <td>  -733.3</td>\n",
       "</tr>\n",
       "<tr>\n",
       "  <th>Df Model:</th>              <td>     4</td>      <th>                     </th>     <td> </td>   \n",
       "</tr>\n",
       "<tr>\n",
       "  <th>Covariance Type:</th>      <td>nonrobust</td>    <th>                     </th>     <td> </td>   \n",
       "</tr>\n",
       "</table>\n",
       "<table class=\"simpletable\">\n",
       "<tr>\n",
       "       <td></td>          <th>coef</th>     <th>std err</th>      <th>t</th>      <th>P>|t|</th>  <th>[0.025</th>    <th>0.975]</th>  \n",
       "</tr>\n",
       "<tr>\n",
       "  <th>const</th>       <td>   -1.4693</td> <td>    0.126</td> <td>  -11.653</td> <td> 0.000</td> <td>   -1.718</td> <td>   -1.221</td>\n",
       "</tr>\n",
       "<tr>\n",
       "  <th>GRE_Score</th>   <td>    0.0021</td> <td>    0.001</td> <td>    3.140</td> <td> 0.002</td> <td>    0.001</td> <td>    0.003</td>\n",
       "</tr>\n",
       "<tr>\n",
       "  <th>TOEFL_Score</th> <td>    0.0034</td> <td>    0.001</td> <td>    2.840</td> <td> 0.005</td> <td>    0.001</td> <td>    0.006</td>\n",
       "</tr>\n",
       "<tr>\n",
       "  <th>LOR_</th>        <td>    0.0236</td> <td>    0.006</td> <td>    4.123</td> <td> 0.000</td> <td>    0.012</td> <td>    0.035</td>\n",
       "</tr>\n",
       "<tr>\n",
       "  <th>CGPA</th>        <td>    0.1248</td> <td>    0.014</td> <td>    9.228</td> <td> 0.000</td> <td>    0.098</td> <td>    0.151</td>\n",
       "</tr>\n",
       "</table>\n",
       "<table class=\"simpletable\">\n",
       "<tr>\n",
       "  <th>Omnibus:</th>       <td>60.232</td> <th>  Durbin-Watson:     </th> <td>   2.036</td>\n",
       "</tr>\n",
       "<tr>\n",
       "  <th>Prob(Omnibus):</th> <td> 0.000</td> <th>  Jarque-Bera (JB):  </th> <td> 120.188</td>\n",
       "</tr>\n",
       "<tr>\n",
       "  <th>Skew:</th>          <td>-1.098</td> <th>  Prob(JB):          </th> <td>7.97e-27</td>\n",
       "</tr>\n",
       "<tr>\n",
       "  <th>Kurtosis:</th>      <td> 5.341</td> <th>  Cond. No.          </th> <td>1.13e+04</td>\n",
       "</tr>\n",
       "</table><br/><br/>Notes:<br/>[1] Standard Errors assume that the covariance matrix of the errors is correctly specified.<br/>[2] The condition number is large, 1.13e+04. This might indicate that there are<br/>strong multicollinearity or other numerical problems."
      ],
      "text/plain": [
       "<class 'statsmodels.iolib.summary.Summary'>\n",
       "\"\"\"\n",
       "                            OLS Regression Results                            \n",
       "==============================================================================\n",
       "Dep. Variable:       Chance_of_Admit_   R-squared:                       0.807\n",
       "Model:                            OLS   Adj. R-squared:                  0.804\n",
       "Method:                 Least Squares   F-statistic:                     286.9\n",
       "Date:                Mon, 13 Feb 2023   Prob (F-statistic):           8.18e-97\n",
       "Time:                        15:07:07   Log-Likelihood:                 380.72\n",
       "No. Observations:                 280   AIC:                            -751.4\n",
       "Df Residuals:                     275   BIC:                            -733.3\n",
       "Df Model:                           4                                         \n",
       "Covariance Type:            nonrobust                                         \n",
       "===============================================================================\n",
       "                  coef    std err          t      P>|t|      [0.025      0.975]\n",
       "-------------------------------------------------------------------------------\n",
       "const          -1.4693      0.126    -11.653      0.000      -1.718      -1.221\n",
       "GRE_Score       0.0021      0.001      3.140      0.002       0.001       0.003\n",
       "TOEFL_Score     0.0034      0.001      2.840      0.005       0.001       0.006\n",
       "LOR_            0.0236      0.006      4.123      0.000       0.012       0.035\n",
       "CGPA            0.1248      0.014      9.228      0.000       0.098       0.151\n",
       "==============================================================================\n",
       "Omnibus:                       60.232   Durbin-Watson:                   2.036\n",
       "Prob(Omnibus):                  0.000   Jarque-Bera (JB):              120.188\n",
       "Skew:                          -1.098   Prob(JB):                     7.97e-27\n",
       "Kurtosis:                       5.341   Cond. No.                     1.13e+04\n",
       "==============================================================================\n",
       "\n",
       "Notes:\n",
       "[1] Standard Errors assume that the covariance matrix of the errors is correctly specified.\n",
       "[2] The condition number is large, 1.13e+04. This might indicate that there are\n",
       "strong multicollinearity or other numerical problems.\n",
       "\"\"\""
      ]
     },
     "execution_count": 24,
     "metadata": {},
     "output_type": "execute_result"
    }
   ],
   "source": [
    "# Split the data into training (70%) and testing (30%) datasets\n",
    "x_train, x_test, y_train, y_test = train_test_split(x_values,y_values,test_size=0.3,random_state=1234)\n",
    "\n",
    "# Fit regression model\n",
    "model = sm.OLS(y_train, x_train).fit()\n",
    "\n",
    "# Predict the values of y in both the training and testing datasets\n",
    "y_pred_train = model.predict(x_train)\n",
    "y_pred_test = model.predict(x_test)\n",
    "\n",
    "# Get the value of m (slope of regression line) in y = mx + b\n",
    "m_value = model.params.loc[x_vars]\n",
    "\n",
    "model.summary()"
   ]
  },
  {
   "attachments": {},
   "cell_type": "markdown",
   "metadata": {},
   "source": [
    "Interpretation:\n",
    "\n",
    "R-squared:\t0.807   -> The model can explain 80.7% of the variation in the values of Chance_of_Admit.\n",
    "\n",
    "Prob (F-statistic):\t8.18e-97    -> significant\n",
    "\n",
    "\n",
    "p-value for the t-tests\n",
    "    const = 0.000\n",
    "    GRE_Score = 0.002\n",
    "    TOEFL_Score = 0.005\n",
    "    LOR_ = 0.000\n",
    "    CGPA = 0.000\n",
    "\n",
    "All p-values are below 0.05. There is a significant relationship between the predictors and the dependent variable."
   ]
  },
  {
   "cell_type": "code",
   "execution_count": 25,
   "metadata": {},
   "outputs": [
    {
     "data": {
      "text/html": [
       "<div>\n",
       "<style scoped>\n",
       "    .dataframe tbody tr th:only-of-type {\n",
       "        vertical-align: middle;\n",
       "    }\n",
       "\n",
       "    .dataframe tbody tr th {\n",
       "        vertical-align: top;\n",
       "    }\n",
       "\n",
       "    .dataframe thead th {\n",
       "        text-align: right;\n",
       "    }\n",
       "</style>\n",
       "<table border=\"1\" class=\"dataframe\">\n",
       "  <thead>\n",
       "    <tr style=\"text-align: right;\">\n",
       "      <th></th>\n",
       "      <th>VIF Factor</th>\n",
       "      <th>Predictors</th>\n",
       "    </tr>\n",
       "  </thead>\n",
       "  <tbody>\n",
       "    <tr>\n",
       "      <th>0</th>\n",
       "      <td>1077.3</td>\n",
       "      <td>const</td>\n",
       "    </tr>\n",
       "    <tr>\n",
       "      <th>1</th>\n",
       "      <td>4.2</td>\n",
       "      <td>GRE_Score</td>\n",
       "    </tr>\n",
       "    <tr>\n",
       "      <th>2</th>\n",
       "      <td>4.1</td>\n",
       "      <td>TOEFL_Score</td>\n",
       "    </tr>\n",
       "    <tr>\n",
       "      <th>3</th>\n",
       "      <td>1.8</td>\n",
       "      <td>LOR_</td>\n",
       "    </tr>\n",
       "    <tr>\n",
       "      <th>4</th>\n",
       "      <td>4.8</td>\n",
       "      <td>CGPA</td>\n",
       "    </tr>\n",
       "  </tbody>\n",
       "</table>\n",
       "</div>"
      ],
      "text/plain": [
       "   VIF Factor   Predictors\n",
       "0      1077.3        const\n",
       "1         4.2    GRE_Score\n",
       "2         4.1  TOEFL_Score\n",
       "3         1.8         LOR_\n",
       "4         4.8         CGPA"
      ]
     },
     "execution_count": 25,
     "metadata": {},
     "output_type": "execute_result"
    }
   ],
   "source": [
    "# Test for multicollinearity\n",
    "from statsmodels.stats.outliers_influence import variance_inflation_factor\n",
    "\n",
    "# Calculate VIF Factors. For each X, calculate VIF and save in dataframe\n",
    "vif = pd.DataFrame()\n",
    "vif[\"VIF Factor\"] = [variance_inflation_factor(x_values.values, i) for i in range(x_values.shape[1])]\n",
    "vif[\"Predictors\"] = x_values.columns\n",
    "\n",
    "# Inspect VIF Factors. VIF should be <10\n",
    "vif.round(1)"
   ]
  },
  {
   "attachments": {},
   "cell_type": "markdown",
   "metadata": {},
   "source": [
    "Interpretation:\n",
    "\n",
    "All predictors (x's) have VIF < 10. No multicollinearity issues."
   ]
  },
  {
   "cell_type": "code",
   "execution_count": 26,
   "metadata": {},
   "outputs": [
    {
     "name": "stdout",
     "output_type": "stream",
     "text": [
      "{'Test Statistic': 21.571992734494398, 'Test Statistic p-value': 0.08784708876377695, 'F-Statistic': 1.5800416125640413, 'F-Test p-value': 0.08452839082423688}\n"
     ]
    }
   ],
   "source": [
    "# Test for Homoscedasticity \n",
    "# Perform White's test. p-value should be >= 0.05\n",
    "from statsmodels.stats.diagnostic import het_white\n",
    "white_test = het_white(model.resid,  model.model.exog)\n",
    "\n",
    "#define labels to use for output of White's test\n",
    "labels = ['Test Statistic', 'Test Statistic p-value', 'F-Statistic', 'F-Test p-value']\n",
    "\n",
    "#print results of White's test\n",
    "print(dict(zip(labels, white_test)))"
   ]
  },
  {
   "attachments": {},
   "cell_type": "markdown",
   "metadata": {},
   "source": [
    "Interpretation:\n",
    "\n",
    "The p-value (0.0878) is not less than 0.05. There is no sufficient evidence to say that heteroskedasticity is present in the data."
   ]
  },
  {
   "cell_type": "code",
   "execution_count": 27,
   "metadata": {},
   "outputs": [
    {
     "name": "stdout",
     "output_type": "stream",
     "text": [
      "217    0.031221\n",
      "349    0.005329\n",
      "188    0.052519\n",
      "267    0.064531\n",
      "222   -0.036459\n",
      "         ...   \n",
      "204    0.007276\n",
      "53     0.048519\n",
      "294   -0.022347\n",
      "211   -0.018276\n",
      "303   -0.001932\n",
      "Length: 280, dtype: float64\n"
     ]
    },
    {
     "data": {
      "text/plain": [
       "2.036016702634327"
      ]
     },
     "execution_count": 27,
     "metadata": {},
     "output_type": "execute_result"
    }
   ],
   "source": [
    "# Assumption of Independent Errors\n",
    "# Durbin-Watson test. For this test, a value of 2, or close to it, is ideal.\n",
    "print(model.resid)\n",
    "sm.stats.stattools.durbin_watson(model.resid)     "
   ]
  },
  {
   "attachments": {},
   "cell_type": "markdown",
   "metadata": {},
   "source": [
    "Interpretation:\n",
    "\n",
    "Value (2.0360) is close to 2. The residual error terms are independent of each other."
   ]
  },
  {
   "cell_type": "code",
   "execution_count": 35,
   "metadata": {},
   "outputs": [
    {
     "name": "stdout",
     "output_type": "stream",
     "text": [
      "MAPE (Train):  7.184923961652341\n",
      "MAPE (Train):  7.834492108967156\n"
     ]
    }
   ],
   "source": [
    "# Compute for error metrics using the train dataset\n",
    "rmse_train = sqrt(mean_squared_error(y_train, y_pred_train))\n",
    "mape_train = mean_absolute_percentage_error(y_train, y_pred_train)\n",
    "mae_train = mean_absolute_error(y_train, y_pred_train)\n",
    "\n",
    "# Compute for error metrics using the test dataset\n",
    "rmse_test = sqrt(mean_squared_error(y_test, y_pred_test))\n",
    "mape_test = mean_absolute_percentage_error(y_test, y_pred_test)\n",
    "mae_test = mean_absolute_error(y_test, y_pred_test)\n",
    "\n",
    "print('MAPE (Train): ',mape_train*100)\n",
    "print('MAPE (Train): ',mape_test*100)"
   ]
  },
  {
   "attachments": {},
   "cell_type": "markdown",
   "metadata": {},
   "source": [
    "Interpretation:\n",
    "\n",
    "Mean Absolute Percentage Errors (MAPE) are low (below 10%)."
   ]
  }
 ],
 "metadata": {
  "kernelspec": {
   "display_name": "Python 3",
   "language": "python",
   "name": "python3"
  },
  "language_info": {
   "codemirror_mode": {
    "name": "ipython",
    "version": 3
   },
   "file_extension": ".py",
   "mimetype": "text/x-python",
   "name": "python",
   "nbconvert_exporter": "python",
   "pygments_lexer": "ipython3",
   "version": "3.10.7"
  },
  "orig_nbformat": 4,
  "vscode": {
   "interpreter": {
    "hash": "bbce3f1fca59001c854410ddf4c29c79275cb09cc5daf75bfddfa4536d10f1bc"
   }
  }
 },
 "nbformat": 4,
 "nbformat_minor": 2
}
